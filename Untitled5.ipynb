{
  "nbformat": 4,
  "nbformat_minor": 0,
  "metadata": {
    "colab": {
      "provenance": [],
      "authorship_tag": "ABX9TyOIjxusrYEDn5dkIC40s/e6",
      "include_colab_link": true
    },
    "kernelspec": {
      "name": "python3",
      "display_name": "Python 3"
    },
    "language_info": {
      "name": "python"
    }
  },
  "cells": [
    {
      "cell_type": "markdown",
      "metadata": {
        "id": "view-in-github",
        "colab_type": "text"
      },
      "source": [
        "<a href=\"https://colab.research.google.com/github/RudilsonManuelIe/FORMULARIO/blob/main/Untitled5.ipynb\" target=\"_parent\"><img src=\"https://colab.research.google.com/assets/colab-badge.svg\" alt=\"Open In Colab\"/></a>"
      ]
    },
    {
      "cell_type": "code",
      "source": [],
      "metadata": {
        "id": "R6cBW9CCVEEi"
      },
      "execution_count": null,
      "outputs": []
    },
    {
      "cell_type": "code",
      "source": [
        "num1 = float(input(\"Entre com um numero \"))\n",
        "num2 = float(input(\"Entre com mais um numero \"))\n",
        "\n",
        "if (num1 > num2):\n",
        "  print(num1)\n",
        "elif (num1 < num2):\n",
        "  print(num2)"
      ],
      "metadata": {
        "colab": {
          "base_uri": "https://localhost:8080/"
        },
        "outputId": "f7776eca-291a-42e9-d3d3-7d7ca63fde19",
        "id": "pfCjGfq9VL43"
      },
      "execution_count": 6,
      "outputs": [
        {
          "name": "stdout",
          "output_type": "stream",
          "text": [
            "Entre com um numero 1\n",
            "Entre com mais um numero 1\n"
          ]
        }
      ]
    },
    {
      "cell_type": "code",
      "source": [
        "num1 = float(input(\"Entre com um numero \"))\n",
        "num2 = float(input(\"Entre com mais um numero \"))\n",
        "\n",
        "if (num1 > num2):\n",
        "  print(num1)\n",
        "elif (num1 < num2):\n",
        "  print(num2)"
      ],
      "metadata": {
        "colab": {
          "base_uri": "https://localhost:8080/"
        },
        "id": "csm0UhkWTzyk",
        "outputId": "c114409f-85f4-48f5-896b-3b92451c4e47"
      },
      "execution_count": 4,
      "outputs": [
        {
          "output_type": "stream",
          "name": "stdout",
          "text": [
            "Entre com um numero 1\n",
            "Entre com mais um numero 2\n",
            "2.0\n"
          ]
        }
      ]
    },
    {
      "cell_type": "code",
      "source": [
        "turno = input(\"Qual o turno em que voce estuda? \")\n",
        "\n",
        "if (turno == 'M'):\n",
        "  print(\"Bom dia\")\n",
        "elif (turno == 'V'):\n",
        "  print(\"Boa tarde\")\n",
        "elif (turno == \"N\"):\n",
        "  print(\"Boa noite\")\n",
        "else:\n",
        "    print(\"valor inválido\")"
      ],
      "metadata": {
        "colab": {
          "base_uri": "https://localhost:8080/"
        },
        "id": "Aa6jlNd3RtPt",
        "outputId": "f4db01c2-5933-4d15-c41d-83706dde397d"
      },
      "execution_count": 3,
      "outputs": [
        {
          "output_type": "stream",
          "name": "stdout",
          "text": [
            "Qual o turno em que voce estuda? n\n",
            "valor inválido\n"
          ]
        }
      ]
    },
    {
      "cell_type": "code",
      "execution_count": 1,
      "metadata": {
        "colab": {
          "base_uri": "https://localhost:8080/"
        },
        "id": "I74P_omhQRah",
        "outputId": "e52bdf43-5924-43eb-903a-9d12e129c15c"
      },
      "outputs": [
        {
          "output_type": "stream",
          "name": "stdout",
          "text": [
            "Qual o turno em que voce estuda? M\n",
            "Bom dia\n"
          ]
        }
      ],
      "source": [
        "turno = input(\"Qual o turno em que voce estuda? \")\n",
        "\n",
        "if (turno == 'M'):\n",
        "  print(\"Bom dia\")\n",
        "elif (turno == 'V'):\n",
        "  print(\"Boa tarde\")\n",
        "elif (turno == \"N\"):\n",
        "  print(\"Boa noite\")\n",
        "else:\n",
        "  print(\"valor inválido\")"
      ]
    }
  ]
}